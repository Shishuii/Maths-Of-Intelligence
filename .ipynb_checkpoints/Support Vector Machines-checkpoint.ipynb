{
 "cells": [
  {
   "cell_type": "markdown",
   "metadata": {},
   "source": [
    "#  Support Vector Machines( Built from Scratch)"
   ]
  },
  {
   "cell_type": "code",
   "execution_count": 7,
   "metadata": {},
   "outputs": [
    {
     "data": {
      "text/plain": [
       "[<matplotlib.lines.Line2D at 0x8437588>]"
      ]
     },
     "execution_count": 7,
     "metadata": {},
     "output_type": "execute_result"
    },
    {
     "data": {
      "image/png": "[encoded data removed]",
      "text/plain": [
       "<matplotlib.figure.Figure at 0x86384a8>"
      ]
     },
     "metadata": {},
     "output_type": "display_data"
    }
   ],
   "source": [
    "#To help us perform math operations\n",
    "import numpy as np\n",
    "#to plot our data and model visually\n",
    "from matplotlib import pyplot as plt\n",
    "%matplotlib inline\n",
    "\n",
    "#Step 1 - Define our data\n",
    "\n",
    "#Input data - Of the form [X value, Y value, Bias term]\n",
    "X = np.array([\n",
    "    [-2,4],\n",
    "    [4,1],\n",
    "    [1, 6],\n",
    "    [5, 4],\n",
    "    [6, 2],\n",
    "    [2, 8],\n",
    "    [6, 4],\n",
    "])\n",
    "\n",
    "#Associated output labels - First 2 examples are labeled '-1' and last 3 are labeled '+1'\n",
    "y = np.array([-1,-1,-1,1,1,1,1])\n",
    "\n",
    "#lets plot these examples on a 2D graph!\n",
    "#for each example\n",
    "for d, sample in enumerate(X):\n",
    "    # Plot the negative samples (the first 2)\n",
    "    if d < 3:\n",
    "        plt.scatter(sample[0], sample[1], s=120, marker='*', linewidths=2)\n",
    "    # Plot the positive samples (the last 3)\n",
    "    else:\n",
    "        plt.scatter(sample[0], sample[1], s=120, marker='+', linewidths=2)\n",
    "\n",
    "# Print a possible hyperplane, that is seperating the two classes.\n",
    "#we'll two points and draw the line between them (naive guess)\n",
    "plt.plot([-2,6],[6,0.5])\n"
   ]
  },
  {
   "cell_type": "code",
   "execution_count": 2,
   "metadata": {
    "collapsed": true
   },
   "outputs": [],
   "source": [
    "#lets perform stochastic gradient descent to learn the seperating hyperplane between both classes\n",
    "\n",
    "def svm_sgd_plot(X, Y):\n",
    "    #Initialize our SVMs weight vector with zeros (3 values)\n",
    "    w = np.zeros(len(X[0]))\n",
    "    #The learning rate\n",
    "    eta = 1\n",
    "    #how many iterations to train for\n",
    "    epochs = 100000\n",
    "    #store misclassifications so we can plot how they change over time\n",
    "    errors = []\n",
    "\n",
    "    #training part, gradient descent part\n",
    "    for epoch in range(1,epochs):\n",
    "        error = 0\n",
    "        for i, x in enumerate(X):\n",
    "            #misclassification\n",
    "            if (Y[i]*np.dot(X[i], w)) < 1:\n",
    "                #misclassified update for ours weights\n",
    "                w = w + eta * ( (X[i] * Y[i]) + (-2  *(1/epoch)* w) )\n",
    "                error = 1\n",
    "            else:\n",
    "                #correct classification, update our weights\n",
    "                w = w + eta * (-2  *(1/epoch)* w)\n",
    "        errors.append(error)\n",
    "        \n",
    "\n",
    "    #lets plot the rate of classification errors during training for our SVM\n",
    "    plt.plot(errors, '|')\n",
    "    plt.ylim(0.5,1.5)\n",
    "    plt.axes().set_yticklabels([])\n",
    "    plt.xlabel('Epoch')\n",
    "    plt.ylabel('Misclassified')\n",
    "    plt.show()\n",
    "    \n",
    "    return w"
   ]
  },
  {
   "cell_type": "code",
   "execution_count": 3,
   "metadata": {},
   "outputs": [
    {
     "data": {
      "image/png": "[encoded data removed]",
      "text/plain": [
       "<matplotlib.figure.Figure at 0x81f7f28>"
      ]
     },
     "metadata": {},
     "output_type": "display_data"
    }
   ],
   "source": [
    "w = svm_sgd_plot(X,y)\n",
    "#they decrease over time! Our SVM is learning the optimal hyperplane"
   ]
  },
  {
   "cell_type": "code",
   "execution_count": 4,
   "metadata": {},
   "outputs": [
    {
     "data": {
      "text/plain": [
       "<matplotlib.quiver.Quiver at 0x84c4668>"
      ]
     },
     "execution_count": 4,
     "metadata": {},
     "output_type": "execute_result"
    },
    {
     "data": {
      "image/png": "[encoded data removed]",
      "text/plain": [
       "<matplotlib.figure.Figure at 0x8281cc0>"
      ]
     },
     "metadata": {},
     "output_type": "display_data"
    }
   ],
   "source": [
    "for d, sample in enumerate(X):\n",
    "    # Plot the negative samples\n",
    "    if d < 2:\n",
    "        plt.scatter(sample[0], sample[1], s=120, marker='_', linewidths=2)\n",
    "    # Plot the positive samples\n",
    "    else:\n",
    "        plt.scatter(sample[0], sample[1], s=120, marker='+', linewidths=2)\n",
    "\n",
    "# Add our test samples\n",
    "plt.scatter(2,2, s=120, marker='_', linewidths=2, color='yellow')\n",
    "plt.scatter(4,3, s=120, marker='+', linewidths=2, color='blue')\n",
    "\n",
    "# Print the hyperplane calculated by svm_sgd()\n",
    "x2=[w[0],w[1],-w[1],w[0]]\n",
    "x3=[w[0],w[1],w[1],-w[0]]\n",
    "\n",
    "x2x3 =np.array([x2,x3])\n",
    "X,Y,U,V = zip(*x2x3)\n",
    "ax = plt.gca()\n",
    "ax.quiver(X,Y,U,V,scale=1, color='blue')"
   ]
  }
 ],
 "metadata": {
  "kernelspec": {
   "display_name": "Python 3",
   "language": "python",
   "name": "python3"
  },
  "language_info": {
   "codemirror_mode": {
    "name": "ipython",
    "version": 3
   },
   "file_extension": ".py",
   "mimetype": "text/x-python",
   "name": "python",
   "nbconvert_exporter": "python",
   "pygments_lexer": "ipython3",
   "version": "3.6.1"
  }
 },
 "nbformat": 4,
 "nbformat_minor": 2
}
